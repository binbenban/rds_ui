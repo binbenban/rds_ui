{
 "cells": [
  {
   "cell_type": "code",
   "execution_count": 9,
   "metadata": {},
   "outputs": [],
   "source": [
    "import json\n",
    "from pprint import pprint\n",
    "from src import yaml_reader"
   ]
  },
  {
   "cell_type": "code",
   "execution_count": null,
   "metadata": {},
   "outputs": [],
   "source": []
  },
  {
   "cell_type": "code",
   "execution_count": 10,
   "metadata": {},
   "outputs": [
    {
     "name": "stdout",
     "output_type": "stream",
     "text": [
      "start refreshing all yamls...2020-09-07T17:40:56.037807+10:00\n",
      "adding element ZZ_FEED_ID2; [['FEED_NAME'], ['DB_NAME']]\n",
      "adding element ZZ_FEED_ATTRIBUTE_ID_FLAT; [['FEED_ID', 'SOURCE_SYSTEM'], ['FEED_ID', 'FEED_NAME'], ['ATTRIBUTE_NAME']]\n",
      "adding element ZZ_DATA_OBJECT_ATTRIBUTE_ID_FLAT; [['DATA_OBJECT_ID', 'DATA_OBJECT_NAME'], ['DATA_OBJECT_ID', 'TGT_DB_NAME'], ['ATTRIBUTE_NAME']]\n",
      "adding element ZZ_FEED_ID; [['FEED_ATTRIBUTE_ID', 'FEED_NAME'], ['FEED_ATTRIBUTE_ID', 'SOURCE_SYSTEM']]\n",
      "adding element ZZ_DATA_OBJECT_ID; [['DATA_OBJECT_ATTRIBUTE_ID', 'DATA_OBJECT_NAME'], ['DATA_OBJECT_ATTRIBUTE_ID', 'TGT_DB_NAME']]\n",
      "finished refreshing all yamls...2020-09-07T17:41:27.310972+10:00\n"
     ]
    }
   ],
   "source": [
    "rd = yaml_reader.reader_instance()\n"
   ]
  },
  {
   "cell_type": "code",
   "execution_count": 11,
   "metadata": {},
   "outputs": [],
   "source": [
    "feed_id = {'SOURCE_SYSTEM': 'aa', 'FEED_NAME': 'browser'}\n",
    "attribute_name = 'browser'"
   ]
  },
  {
   "cell_type": "code",
   "execution_count": 13,
   "metadata": {},
   "outputs": [],
   "source": [
    "    met, _ = rd.feed_attributes.filter_entries_multi(\n",
    "        [\n",
    "            [\"FEED_ID\", feed_id],\n",
    "            [\"ATTRIBUTE_NAME\", attribute_name]\n",
    "        ], \"ATTRIBUTE_NO\"\n",
    "    )\n"
   ]
  },
  {
   "cell_type": "code",
   "execution_count": 15,
   "metadata": {},
   "outputs": [
    {
     "name": "stdout",
     "output_type": "stream",
     "text": [
      "[{'ATTRIBUTE_NAME': 'browser',\n",
      "  'ATTRIBUTE_NO': 1,\n",
      "  'ATTRIBUTE_TYPE': 'int',\n",
      "  'FEED_ID': ordereddict([('SOURCE_SYSTEM', 'aa'), ('FEED_NAME', 'browser')]),\n",
      "  'NULLABLE_IND': 'N',\n",
      "  'PRIMARY_KEY_IND': 'Y',\n",
      "  'ZZ_FEED_ATTRIBUTE_ID': {'ATTRIBUTE_NAME': 'browser',\n",
      "                           'FEED_ID': {'FEED_NAME': 'browser',\n",
      "                                       'SOURCE_SYSTEM': 'aa'}},\n",
      "  'ZZ_FEED_ATTRIBUTE_ID_FLAT': {'ATTRIBUTE_NAME': 'browser',\n",
      "                                'FEED_NAME': 'browser',\n",
      "                                'SOURCE_SYSTEM': 'aa'}}]\n"
     ]
    }
   ],
   "source": [
    "pprint(met)"
   ]
  },
  {
   "cell_type": "code",
   "execution_count": 3,
   "metadata": {
    "scrolled": true
   },
   "outputs": [
    {
     "name": "stdout",
     "output_type": "stream",
     "text": [
      "[{'DATA_OBJECT_ATTRIBUTE_ID': {'ATTRIBUTE_NAME': 'connection_type',\n",
      "                               'DATA_OBJECT_NAME': 'connection_type',\n",
      "                               'TGT_DB_NAME': 'cds_aa'},\n",
      "  'FEED_ATTRIBUTE_ID': {'ATTRIBUTE_NAME': 'connection_type',\n",
      "                        'FEED_NAME': 'connection_type',\n",
      "                        'SOURCE_SYSTEM': 'aa'},\n",
      "  'FEED_ATTR_DATA_OBJECT_ATTR_ID': {'DATA_OBJECT_ATTRIBUTE_ID': {'ATTRIBUTE_NAME': 'connection_type',\n",
      "                                                                 'DATA_OBJECT_NAME': 'connection_type',\n",
      "                                                                 'TGT_DB_NAME': 'cds_aa'},\n",
      "                                    'FEED_ATTRIBUTE_ID': {'ATTRIBUTE_NAME': 'connection_type',\n",
      "                                                          'FEED_NAME': 'connection_type',\n",
      "                                                          'SOURCE_SYSTEM': 'aa'}}},\n",
      " {'DATA_OBJECT_ATTRIBUTE_ID': {'ATTRIBUTE_NAME': 'description',\n",
      "                               'DATA_OBJECT_NAME': 'connection_type',\n",
      "                               'TGT_DB_NAME': 'cds_aa'},\n",
      "  'FEED_ATTRIBUTE_ID': {'ATTRIBUTE_NAME': 'description',\n",
      "                        'FEED_NAME': 'connection_type',\n",
      "                        'SOURCE_SYSTEM': 'aa'},\n",
      "  'FEED_ATTR_DATA_OBJECT_ATTR_ID': {'DATA_OBJECT_ATTRIBUTE_ID': {'ATTRIBUTE_NAME': 'description',\n",
      "                                                                 'DATA_OBJECT_NAME': 'connection_type',\n",
      "                                                                 'TGT_DB_NAME': 'cds_aa'},\n",
      "                                    'FEED_ATTRIBUTE_ID': {'ATTRIBUTE_NAME': 'description',\n",
      "                                                          'FEED_NAME': 'connection_type',\n",
      "                                                          'SOURCE_SYSTEM': 'aa'}}}]\n"
     ]
    }
   ],
   "source": [
    "pprint(feed_attr_data_object_attr.entries[10:12])"
   ]
  },
  {
   "cell_type": "code",
   "execution_count": 4,
   "metadata": {},
   "outputs": [],
   "source": [
    "feed_attrs = yr.Table(\n",
    "            \"feed_data_object\",\n",
    "            [\"FEED_ID\", \"DATA_OBJECT_ID\"])"
   ]
  },
  {
   "cell_type": "code",
   "execution_count": 7,
   "metadata": {},
   "outputs": [],
   "source": [
    "ss = feed_attrs.entries[0]"
   ]
  },
  {
   "cell_type": "code",
   "execution_count": 11,
   "metadata": {},
   "outputs": [
    {
     "name": "stdout",
     "output_type": "stream",
     "text": [
      "{'DATA_OBJECT_ID': {'DATA_OBJECT_NAME': 'attribute',\n",
      "                    'TGT_DB_NAME': 'cds_pim'},\n",
      " 'FEED_DATA_OBJECT_ID': {'DATA_OBJECT_ID': {'DATA_OBJECT_NAME': 'attribute',\n",
      "                                            'TGT_DB_NAME': 'cds_pim'},\n",
      "                         'FEED_ID': {'DB_NAME': 'rds_pim',\n",
      "                                     'FEED_NAME': 'attribute_definition'}},\n",
      " 'FEED_ID': {'DB_NAME': 'rds_pim',\n",
      "             'FEED_NAME': 'attribute_definition'},\n",
      " 'TRANSFORM_SQL_QUERY': 'select array_1.ID as attributeid , '\n",
      "                        'array_1.MultiValued as multivalued , '\n",
      "                        'array_1.ProductMode as producemode , '\n",
      "                        'array_1.FullTextIndexed as fulltextindexed , '\n",
      "                        'array_1.ExternallyMaintained as externallymaintained '\n",
      "                        ', array_1.Derived as derived, '\n",
      "                        'array_1.HierarchicalFiltering as '\n",
      "                        'hierarchicalfiltering, '\n",
      "                        'array_1.ClassificationHierarchicalFiltering as '\n",
      "                        'classificationfiltering, array_1.Selected as '\n",
      "                        'selected, array_1.Referenced as referenced, '\n",
      "                        'array_1.Mandatory as mandatory, array_1.DefaultUnitID '\n",
      "                        'as defaultunitid, array_1.Name as name, '\n",
      "                        'DimensionLink_elem_1.DimensionID as dimensionid, '\n",
      "                        'Validation_elem_1.BaseType as validationbasetype, '\n",
      "                        'Validation_elem_1.MinValue as validationminvalue, '\n",
      "                        'Validation_elem_1.MaxValue as validationmaxvalue, '\n",
      "                        'Validation_elem_1.MaxLength as validationmaxlength, '\n",
      "                        'Validation_elem_1.InputMask as validationinputmask, '\n",
      "                        'ListOfValueLink_elem_1.ListOfValueID as '\n",
      "                        'listofvalueid, array_1.ValueTemplate as '\n",
      "                        'valuetemplate, schedule_cd, feed_instance_id from (  '\n",
      "                        'select array_1, array_1.DimensionLink as '\n",
      "                        'DimensionLink_elem_1, array_1.Validation as '\n",
      "                        'Validation_elem_1, array_1.ListOfValueLink as '\n",
      "                        'ListOfValueLink_elem_1, schedule_cd, feed_instance_id '\n",
      "                        'from ( SELECT  '\n",
      "                        'explode(`STEP-ProductInformation`.AttributeList.Attribute) '\n",
      "                        'as array_1, schedule_cd, feed_instance_id FROM '\n",
      "                        'rds_pim.attribute_definition))'}\n"
     ]
    }
   ],
   "source": [
    "pprint(ss)"
   ]
  },
  {
   "cell_type": "code",
   "execution_count": 18,
   "metadata": {},
   "outputs": [
    {
     "data": {
      "text/plain": [
       "'select array_1.ID as attributeid , array_1.MultiValued as multivalued , array_1.ProductMode as producemode , array_1.FullTextIndexed as fulltextindexed , array_1.ExternallyMaintained as externallymaintained , array_1.Derived as derived, array_1.HierarchicalFiltering as hierarchicalfiltering, array_1.ClassificationHierarchicalFiltering as classificationfiltering, array_1.Selected as selected, array_1.Referenced as referenced, array_1.Mandatory as mandatory, array_1.DefaultUnitID as defaultunitid, array_1.Name as name, DimensionLink_elem_1.DimensionID as dimensionid, Validation_elem_1.BaseType as validationbasetype, Validation_elem_1.MinValue as validationminvalue, Validation_elem_1.MaxValue as validationmaxvalue, Validation_elem_1.MaxLength as validationmaxlength, Validation_elem_1.InputMask as validationinputmask, ListOfValueLink_elem_1.ListOfValueID as listofvalueid, array_1.ValueTemplate as valuetemplate, schedule_cd, feed_instance_id from (  select array_1, array_1.DimensionLink as DimensionLink_elem_1, array_1.Validation as Validation_elem_1, array_1.ListOfValueLink as ListOfValueLink_elem_1, schedule_cd, feed_instance_id from ( SELECT  explode(`STEP-ProductInformation`.AttributeList.Attribute) as array_1, schedule_cd, feed_instance_id FROM rds_pim.attribute_definition))'"
      ]
     },
     "execution_count": 18,
     "metadata": {},
     "output_type": "execute_result"
    }
   ],
   "source": [
    "ss[\"TRANSFORM_SQL_QUERY\"]"
   ]
  },
  {
   "cell_type": "code",
   "execution_count": null,
   "metadata": {},
   "outputs": [],
   "source": []
  },
  {
   "cell_type": "code",
   "execution_count": 11,
   "metadata": {},
   "outputs": [
    {
     "ename": "TypeError",
     "evalue": "unhashable type: 'dict'",
     "output_type": "error",
     "traceback": [
      "\u001b[0;31m---------------------------------------------------------------------------\u001b[0m",
      "\u001b[0;31mTypeError\u001b[0m                                 Traceback (most recent call last)",
      "\u001b[0;32m<ipython-input-11-28dd9493f05e>\u001b[0m in \u001b[0;36m<module>\u001b[0;34m\u001b[0m\n\u001b[1;32m      1\u001b[0m \u001b[0mss\u001b[0m \u001b[0;34m=\u001b[0m \u001b[0;34m{\u001b[0m\u001b[0;34m}\u001b[0m\u001b[0;34m\u001b[0m\u001b[0;34m\u001b[0m\u001b[0m\n\u001b[1;32m      2\u001b[0m \u001b[0mkey\u001b[0m \u001b[0;34m=\u001b[0m \u001b[0;34m{\u001b[0m\u001b[0;34m\"a\"\u001b[0m\u001b[0;34m:\u001b[0m\u001b[0;36m1\u001b[0m\u001b[0;34m}\u001b[0m\u001b[0;34m\u001b[0m\u001b[0;34m\u001b[0m\u001b[0m\n\u001b[0;32m----> 3\u001b[0;31m \u001b[0mss\u001b[0m\u001b[0;34m[\u001b[0m\u001b[0mkey\u001b[0m\u001b[0;34m]\u001b[0m \u001b[0;34m=\u001b[0m \u001b[0;36m1\u001b[0m\u001b[0;34m\u001b[0m\u001b[0;34m\u001b[0m\u001b[0m\n\u001b[0m",
      "\u001b[0;31mTypeError\u001b[0m: unhashable type: 'dict'"
     ]
    }
   ],
   "source": [
    "ss = {}\n",
    "key = {\"a\":1}\n",
    "ss[key] = 1"
   ]
  },
  {
   "cell_type": "code",
   "execution_count": null,
   "metadata": {},
   "outputs": [],
   "source": []
  }
 ],
 "metadata": {
  "kernelspec": {
   "display_name": "Python 3.7.7 64-bit ('odap': conda)",
   "language": "python",
   "name": "python37764bitodapconda494458c348d64d87960254942658fdab"
  },
  "language_info": {
   "codemirror_mode": {
    "name": "ipython",
    "version": 3
   },
   "file_extension": ".py",
   "mimetype": "text/x-python",
   "name": "python",
   "nbconvert_exporter": "python",
   "pygments_lexer": "ipython3",
   "version": "3.7.7"
  }
 },
 "nbformat": 4,
 "nbformat_minor": 2
}
