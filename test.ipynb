{
 "cells": [
  {
   "cell_type": "code",
   "execution_count": 1,
   "metadata": {},
   "outputs": [],
   "source": [
    "import json\n",
    "from pprint import pprint\n",
    "from odapui import yaml_reader\n",
    "import pickle\n",
    "from ruamel.yaml import YAML\n",
    "from ruamel.yaml.comments import CommentedMap as ordereddict\n",
    "from ruamel.yaml.scalarstring import SingleQuotedScalarString as sq\n",
    "import copy\n",
    "import sys\n",
    "import odapui"
   ]
  },
  {
   "cell_type": "code",
   "execution_count": 3,
   "metadata": {},
   "outputs": [
    {
     "name": "stdout",
     "output_type": "stream",
     "text": [
      "initialising instance\n",
      "start refreshing all yamls...2020-09-20T23:37:59.572788+10:00\n",
      "adding element ZZ_FEED_ID2; [['FEED_NAME'], ['DB_NAME']]\n",
      "adding element ZZ_FEED_ATTRIBUTE_ID_FLAT; [['FEED_ID', 'SOURCE_SYSTEM'], ['FEED_ID', 'FEED_NAME'], ['ATTRIBUTE_NAME']]\n",
      "adding element ZZ_DATA_OBJECT_ATTRIBUTE_ID_FLAT; [['DATA_OBJECT_ID', 'DATA_OBJECT_NAME'], ['DATA_OBJECT_ID', 'TGT_DB_NAME'], ['ATTRIBUTE_NAME']]\n",
      "adding element ZZ_FEED_ID; [['FEED_ATTRIBUTE_ID', 'FEED_NAME'], ['FEED_ATTRIBUTE_ID', 'SOURCE_SYSTEM']]\n",
      "adding element ZZ_DATA_OBJECT_ID; [['DATA_OBJECT_ATTRIBUTE_ID', 'DATA_OBJECT_NAME'], ['DATA_OBJECT_ATTRIBUTE_ID', 'TGT_DB_NAME']]\n",
      "finished refreshing all yamls...2020-09-20T23:38:39.825681+10:00\n"
     ]
    }
   ],
   "source": [
    "rd = yaml_reader.Reader.get_instance()\n",
    "yaml = YAML()\n",
    "yaml.preserve_quotes = True\n",
    "yaml.width = 40096\n",
    "yaml.indent(mapping=4, sequence=6, offset=4)\n"
   ]
  },
  {
   "cell_type": "code",
   "execution_count": 5,
   "metadata": {},
   "outputs": [],
   "source": [
    "s = rd.feed_attr_data_object_attr.entries[0]"
   ]
  },
  {
   "cell_type": "code",
   "execution_count": 6,
   "metadata": {},
   "outputs": [
    {
     "data": {
      "text/plain": [
       "ordereddict([('FEED_ATTRIBUTE_ID', ordereddict([('ATTRIBUTE_NAME', 'browser'), ('FEED_NAME', 'browser'), ('SOURCE_SYSTEM', 'aa')])), ('DATA_OBJECT_ATTRIBUTE_ID', ordereddict([('ATTRIBUTE_NAME', 'browser'), ('DATA_OBJECT_NAME', 'browser'), ('TGT_DB_NAME', 'cds_aa')])), ('ZZ_FEED_ATTR_DATA_OBJECT_ATTR_ID', {'FEED_ATTRIBUTE_ID': ordereddict([('ATTRIBUTE_NAME', 'browser'), ('FEED_NAME', 'browser'), ('SOURCE_SYSTEM', 'aa')]), 'DATA_OBJECT_ATTRIBUTE_ID': ordereddict([('ATTRIBUTE_NAME', 'browser'), ('DATA_OBJECT_NAME', 'browser'), ('TGT_DB_NAME', 'cds_aa')])}), ('ZZ_FEED_ID', {'FEED_NAME': 'browser', 'SOURCE_SYSTEM': 'aa'}), ('ZZ_DATA_OBJECT_ID', {'DATA_OBJECT_NAME': 'browser', 'TGT_DB_NAME': 'cds_aa'})])"
      ]
     },
     "execution_count": 6,
     "metadata": {},
     "output_type": "execute_result"
    }
   ],
   "source": [
    "s"
   ]
  },
  {
   "cell_type": "code",
   "execution_count": 7,
   "metadata": {},
   "outputs": [
    {
     "name": "stdout",
     "output_type": "stream",
     "text": [
      "FEED_ATTRIBUTE_ID: &id001 {'ATTRIBUTE_NAME': 'browser', 'FEED_NAME': 'browser', 'SOURCE_SYSTEM': 'aa'}      ### foreign key need to specify condition here\n",
      "DATA_OBJECT_ATTRIBUTE_ID: &id002 {'ATTRIBUTE_NAME': 'browser', 'DATA_OBJECT_NAME': 'browser', 'TGT_DB_NAME': 'cds_aa'}      ### foreign key need to specify condition here\n",
      "ZZ_FEED_ATTR_DATA_OBJECT_ATTR_ID:\n",
      "    FEED_ATTRIBUTE_ID: *id001\n",
      "    DATA_OBJECT_ATTRIBUTE_ID: *id002\n",
      "ZZ_FEED_ID:\n",
      "    FEED_NAME: 'browser'\n",
      "    SOURCE_SYSTEM: 'aa'\n",
      "ZZ_DATA_OBJECT_ID:\n",
      "    DATA_OBJECT_NAME: 'browser'\n",
      "    TGT_DB_NAME: 'cds_aa'\n"
     ]
    }
   ],
   "source": [
    "yaml.dump(s, sys.stdout)"
   ]
  },
  {
   "cell_type": "code",
   "execution_count": null,
   "metadata": {},
   "outputs": [],
   "source": []
  },
  {
   "cell_type": "code",
   "execution_count": 14,
   "metadata": {},
   "outputs": [],
   "source": [
    "def single_quote(e: any, int_fields: list) -> any:\n",
    "    # max 2 layers\n",
    "    if isinstance(e, str):\n",
    "        return sq(e)\n",
    "    res = ordereddict()\n",
    "    for k1, v1 in e.items():\n",
    "        if isinstance(v1, dict):\n",
    "            # break up v1\n",
    "            temp1 = ordereddict()\n",
    "            for k2, v2 in v1.items():\n",
    "                if k2 in int_fields:\n",
    "                    temp1[sq(k2)] = v2\n",
    "                else:\n",
    "                    temp1[sq(k2)] = sq(v2)\n",
    "            temp1.fa.set_flow_style()  # one line\n",
    "            if isinstance(v1, ordereddict):\n",
    "                temp1.ca.comment = v1.ca.comment\n",
    "            res[k1] = temp1\n",
    "#             res[k1] = v1\n",
    "        else:\n",
    "            if k1 in int_fields:\n",
    "                res[k1] = v1\n",
    "            else:\n",
    "                res[k1] = sq(v1)\n",
    "    res.ca.comment = e.ca.comment  # preserve comments\n",
    "    return res\n"
   ]
  },
  {
   "cell_type": "code",
   "execution_count": 15,
   "metadata": {},
   "outputs": [],
   "source": [
    "s2 = single_quote(s, [])"
   ]
  },
  {
   "cell_type": "code",
   "execution_count": 16,
   "metadata": {},
   "outputs": [
    {
     "name": "stdout",
     "output_type": "stream",
     "text": [
      "FEED_ATTRIBUTE_ID: {'ATTRIBUTE_NAME': 'browser', 'FEED_NAME': 'browser', 'SOURCE_SYSTEM': 'aa'}             ### foreign key need to specify condition here\n",
      "DATA_OBJECT_ATTRIBUTE_ID: {'ATTRIBUTE_NAME': 'browser', 'DATA_OBJECT_NAME': 'browser', 'TGT_DB_NAME': 'cds_aa'}             ### foreign key need to specify condition here\n",
      "ZZ_FEED_ATTR_DATA_OBJECT_ATTR_ID: {'FEED_ATTRIBUTE_ID': 'ordereddict([(''ATTRIBUTE_NAME'', ''browser''), (''FEED_NAME'', ''browser''), (''SOURCE_SYSTEM'', ''aa'')])', 'DATA_OBJECT_ATTRIBUTE_ID': 'ordereddict([(''ATTRIBUTE_NAME'', ''browser''), (''DATA_OBJECT_NAME'', ''browser''), (''TGT_DB_NAME'', ''cds_aa'')])'}\n",
      "ZZ_FEED_ID: {'FEED_NAME': 'browser', 'SOURCE_SYSTEM': 'aa'}\n",
      "ZZ_DATA_OBJECT_ID: {'DATA_OBJECT_NAME': 'browser', 'TGT_DB_NAME': 'cds_aa'}\n"
     ]
    }
   ],
   "source": [
    "yaml.dump(s2, sys.stdout)"
   ]
  },
  {
   "cell_type": "code",
   "execution_count": null,
   "metadata": {},
   "outputs": [],
   "source": []
  },
  {
   "cell_type": "code",
   "execution_count": null,
   "metadata": {},
   "outputs": [],
   "source": []
  },
  {
   "cell_type": "code",
   "execution_count": 2,
   "metadata": {},
   "outputs": [],
   "source": [
    "yaml = YAML()\n",
    "yaml.preserve_quotes = True\n",
    "yaml.width = 40096\n",
    "yaml.indent(mapping=4, sequence=6, offset=4)\n"
   ]
  },
  {
   "cell_type": "code",
   "execution_count": 3,
   "metadata": {},
   "outputs": [],
   "source": [
    "dd = {\n",
    "    \"A\": \"abc\",\n",
    "    \"B\": 1,\n",
    "    \"C\": {\n",
    "        \"c1\": \"c111\",\n",
    "        \"c2\": 222\n",
    "    }\n",
    "}"
   ]
  },
  {
   "cell_type": "code",
   "execution_count": 4,
   "metadata": {},
   "outputs": [],
   "source": [
    "def single_quote(e: any) -> any:\n",
    "    # max 3 layers\n",
    "    if isinstance(e, str):\n",
    "        return sq(e)\n",
    "    res = ordereddict()\n",
    "    for k1, v1 in e.items():\n",
    "        if isinstance(v1, dict):\n",
    "            # break up v1\n",
    "            temp1 = ordereddict()\n",
    "            for k2, v2 in v1.items():\n",
    "                temp1[k2] = sq(v2)\n",
    "            res[k1] = copy.deepcopy(temp1)\n",
    "        else:\n",
    "            res[k1] = sq(v1)\n",
    "    return res"
   ]
  },
  {
   "cell_type": "code",
   "execution_count": 9,
   "metadata": {},
   "outputs": [],
   "source": [
    "res = single_quote(dd)"
   ]
  },
  {
   "cell_type": "code",
   "execution_count": 13,
   "metadata": {},
   "outputs": [
    {
     "data": {
      "text/plain": [
       "<bound method Format.flow_style of <ruamel.yaml.comments.Format object at 0x7f15ffa95fd0>>"
      ]
     },
     "execution_count": 13,
     "metadata": {},
     "output_type": "execute_result"
    }
   ],
   "source": [
    "res.fa."
   ]
  },
  {
   "cell_type": "code",
   "execution_count": null,
   "metadata": {},
   "outputs": [],
   "source": []
  },
  {
   "cell_type": "code",
   "execution_count": null,
   "metadata": {},
   "outputs": [],
   "source": []
  },
  {
   "cell_type": "code",
   "execution_count": 5,
   "metadata": {},
   "outputs": [],
   "source": [
    "with open(\"test_output.yaml\", 'w') as f:\n",
    "    yaml.dump(single_quote(dd), f)"
   ]
  },
  {
   "cell_type": "code",
   "execution_count": 6,
   "metadata": {},
   "outputs": [],
   "source": [
    "! code test_output.yaml"
   ]
  },
  {
   "cell_type": "code",
   "execution_count": 8,
   "metadata": {},
   "outputs": [
    {
     "ename": "NameError",
     "evalue": "name 'res' is not defined",
     "output_type": "error",
     "traceback": [
      "\u001b[0;31m---------------------------------------------------------------------------\u001b[0m",
      "\u001b[0;31mNameError\u001b[0m                                 Traceback (most recent call last)",
      "\u001b[0;32m<ipython-input-8-c08785e04264>\u001b[0m in \u001b[0;36m<module>\u001b[0;34m\u001b[0m\n\u001b[0;32m----> 1\u001b[0;31m \u001b[0mres\u001b[0m\u001b[0;34m\u001b[0m\u001b[0;34m\u001b[0m\u001b[0m\n\u001b[0m",
      "\u001b[0;31mNameError\u001b[0m: name 'res' is not defined"
     ]
    }
   ],
   "source": [
    "res"
   ]
  },
  {
   "cell_type": "code",
   "execution_count": null,
   "metadata": {},
   "outputs": [],
   "source": []
  }
 ],
 "metadata": {
  "kernelspec": {
   "display_name": "Python 3.7.7 64-bit ('odap': conda)",
   "language": "python",
   "name": "python37764bitodapconda494458c348d64d87960254942658fdab"
  },
  "language_info": {
   "codemirror_mode": {
    "name": "ipython",
    "version": 3
   },
   "file_extension": ".py",
   "mimetype": "text/x-python",
   "name": "python",
   "nbconvert_exporter": "python",
   "pygments_lexer": "ipython3",
   "version": "3.7.7"
  }
 },
 "nbformat": 4,
 "nbformat_minor": 2
}
