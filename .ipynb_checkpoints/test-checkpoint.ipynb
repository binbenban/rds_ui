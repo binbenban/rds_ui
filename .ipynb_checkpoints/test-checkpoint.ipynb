{
 "cells": [
  {
   "cell_type": "code",
   "execution_count": 6,
   "metadata": {},
   "outputs": [],
   "source": [
    "import json\n",
    "from pprint import pprint\n",
    "import src.yaml_reader as yr"
   ]
  },
  {
   "cell_type": "code",
   "execution_count": 2,
   "metadata": {},
   "outputs": [],
   "source": [
    "feed_attr_data_object_attr = yr.Table(\n",
    "            \"feed_attr_data_object_attr\",\n",
    "            [\"FEED_ATTRIBUTE_ID\", \"DATA_OBJECT_ATTRIBUTE_ID\"])"
   ]
  },
  {
   "cell_type": "code",
   "execution_count": 5,
   "metadata": {},
   "outputs": [
    {
     "name": "stdout",
     "output_type": "stream",
     "text": [
      "[{'DATA_OBJECT_ATTRIBUTE_ID': {'ATTRIBUTE_NAME': 'connection_type',\n",
      "                               'DATA_OBJECT_NAME': 'connection_type',\n",
      "                               'TGT_DB_NAME': 'cds_aa'},\n",
      "  'FEED_ATTRIBUTE_ID': {'ATTRIBUTE_NAME': 'connection_type',\n",
      "                        'FEED_NAME': 'connection_type',\n",
      "                        'SOURCE_SYSTEM': 'aa'},\n",
      "  'FEED_ATTR_DATA_OBJECT_ATTR_ID': {'DATA_OBJECT_ATTRIBUTE_ID': {'ATTRIBUTE_NAME': 'connection_type',\n",
      "                                                                 'DATA_OBJECT_NAME': 'connection_type',\n",
      "                                                                 'TGT_DB_NAME': 'cds_aa'},\n",
      "                                    'FEED_ATTRIBUTE_ID': {'ATTRIBUTE_NAME': 'connection_type',\n",
      "                                                          'FEED_NAME': 'connection_type',\n",
      "                                                          'SOURCE_SYSTEM': 'aa'}}},\n",
      " {'DATA_OBJECT_ATTRIBUTE_ID': {'ATTRIBUTE_NAME': 'description',\n",
      "                               'DATA_OBJECT_NAME': 'connection_type',\n",
      "                               'TGT_DB_NAME': 'cds_aa'},\n",
      "  'FEED_ATTRIBUTE_ID': {'ATTRIBUTE_NAME': 'description',\n",
      "                        'FEED_NAME': 'connection_type',\n",
      "                        'SOURCE_SYSTEM': 'aa'},\n",
      "  'FEED_ATTR_DATA_OBJECT_ATTR_ID': {'DATA_OBJECT_ATTRIBUTE_ID': {'ATTRIBUTE_NAME': 'description',\n",
      "                                                                 'DATA_OBJECT_NAME': 'connection_type',\n",
      "                                                                 'TGT_DB_NAME': 'cds_aa'},\n",
      "                                    'FEED_ATTRIBUTE_ID': {'ATTRIBUTE_NAME': 'description',\n",
      "                                                          'FEED_NAME': 'connection_type',\n",
      "                                                          'SOURCE_SYSTEM': 'aa'}}}]\n"
     ]
    }
   ],
   "source": [
    "pprint(feed_attr_data_object_attr.entries[10:12])"
   ]
  },
  {
   "cell_type": "code",
   "execution_count": 8,
   "metadata": {},
   "outputs": [],
   "source": [
    "feed_attrs = yr.Table(\n",
    "            \"feed_attribute\",\n",
    "            [\"FEED_ID\", \"ATTRIBUTE_NAME\"])"
   ]
  },
  {
   "cell_type": "code",
   "execution_count": 10,
   "metadata": {},
   "outputs": [
    {
     "name": "stdout",
     "output_type": "stream",
     "text": [
      "{'ATTRIBUTE_LENGTH': 100,\n",
      " 'ATTRIBUTE_NAME': 'name',\n",
      " 'ATTRIBUTE_NO': 2,\n",
      " 'ATTRIBUTE_TYPE': 'varchar',\n",
      " 'FEED_ATTRIBUTE_ID': {'ATTRIBUTE_NAME': 'name',\n",
      "                       'FEED_ID': {'FEED_NAME': 'attribute_definition',\n",
      "                                   'SOURCE_SYSTEM': 'pim'}},\n",
      " 'FEED_ID': {'FEED_NAME': 'attribute_definition',\n",
      "             'SOURCE_SYSTEM': 'pim'},\n",
      " 'NESTED_ATTRIBUTE_PATH': '`STEP-ProductInformation`.UnitList.UnitFamily',\n",
      " 'NESTED_ATTRIBUTE_TYPE': 'array',\n",
      " 'NULLABLE_IND': 'Y',\n",
      " 'PRIMARY_KEY_IND': 'N'}\n"
     ]
    }
   ],
   "source": [
    "pprint(feed_attrs.entries[0])"
   ]
  },
  {
   "cell_type": "code",
   "execution_count": 11,
   "metadata": {},
   "outputs": [
    {
     "ename": "TypeError",
     "evalue": "unhashable type: 'dict'",
     "output_type": "error",
     "traceback": [
      "\u001b[0;31m---------------------------------------------------------------------------\u001b[0m",
      "\u001b[0;31mTypeError\u001b[0m                                 Traceback (most recent call last)",
      "\u001b[0;32m<ipython-input-11-28dd9493f05e>\u001b[0m in \u001b[0;36m<module>\u001b[0;34m\u001b[0m\n\u001b[1;32m      1\u001b[0m \u001b[0mss\u001b[0m \u001b[0;34m=\u001b[0m \u001b[0;34m{\u001b[0m\u001b[0;34m}\u001b[0m\u001b[0;34m\u001b[0m\u001b[0;34m\u001b[0m\u001b[0m\n\u001b[1;32m      2\u001b[0m \u001b[0mkey\u001b[0m \u001b[0;34m=\u001b[0m \u001b[0;34m{\u001b[0m\u001b[0;34m\"a\"\u001b[0m\u001b[0;34m:\u001b[0m\u001b[0;36m1\u001b[0m\u001b[0;34m}\u001b[0m\u001b[0;34m\u001b[0m\u001b[0;34m\u001b[0m\u001b[0m\n\u001b[0;32m----> 3\u001b[0;31m \u001b[0mss\u001b[0m\u001b[0;34m[\u001b[0m\u001b[0mkey\u001b[0m\u001b[0;34m]\u001b[0m \u001b[0;34m=\u001b[0m \u001b[0;36m1\u001b[0m\u001b[0;34m\u001b[0m\u001b[0;34m\u001b[0m\u001b[0m\n\u001b[0m",
      "\u001b[0;31mTypeError\u001b[0m: unhashable type: 'dict'"
     ]
    }
   ],
   "source": [
    "ss = {}\n",
    "key = {\"a\":1}\n",
    "ss[key] = 1"
   ]
  },
  {
   "cell_type": "code",
   "execution_count": null,
   "metadata": {},
   "outputs": [],
   "source": []
  }
 ],
 "metadata": {
  "kernelspec": {
   "display_name": "Python 3.7.7 64-bit ('odap': conda)",
   "language": "python",
   "name": "python37764bitodapconda494458c348d64d87960254942658fdab"
  },
  "language_info": {
   "codemirror_mode": {
    "name": "ipython",
    "version": 3
   },
   "file_extension": ".py",
   "mimetype": "text/x-python",
   "name": "python",
   "nbconvert_exporter": "python",
   "pygments_lexer": "ipython3",
   "version": "3.7.7"
  }
 },
 "nbformat": 4,
 "nbformat_minor": 2
}
